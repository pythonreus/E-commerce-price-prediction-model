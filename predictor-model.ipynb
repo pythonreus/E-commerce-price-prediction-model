{
 "cells": [
  {
   "cell_type": "code",
   "execution_count": 30,
   "id": "05c501d3-4b5a-40ef-aa20-4ea3b3a857b1",
   "metadata": {},
   "outputs": [],
   "source": [
    "import pandas as pd\n",
    "import numpy as np\n",
    "from sklearn.model_selection import train_test_split"
   ]
  },
  {
   "cell_type": "code",
   "execution_count": 20,
   "id": "99657470-85c7-4fc7-b5d5-e3baf2ae14bd",
   "metadata": {},
   "outputs": [
    {
     "data": {
      "text/html": [
       "<div>\n",
       "<style scoped>\n",
       "    .dataframe tbody tr th:only-of-type {\n",
       "        vertical-align: middle;\n",
       "    }\n",
       "\n",
       "    .dataframe tbody tr th {\n",
       "        vertical-align: top;\n",
       "    }\n",
       "\n",
       "    .dataframe thead th {\n",
       "        text-align: right;\n",
       "    }\n",
       "</style>\n",
       "<table border=\"1\" class=\"dataframe\">\n",
       "  <thead>\n",
       "    <tr style=\"text-align: right;\">\n",
       "      <th></th>\n",
       "      <th>Email</th>\n",
       "      <th>Address</th>\n",
       "      <th>Avatar</th>\n",
       "      <th>Avg. Session Length</th>\n",
       "      <th>Time on App</th>\n",
       "      <th>Time on Website</th>\n",
       "      <th>Length of Membership</th>\n",
       "      <th>Yearly Amount Spent</th>\n",
       "    </tr>\n",
       "  </thead>\n",
       "  <tbody>\n",
       "    <tr>\n",
       "      <th>0</th>\n",
       "      <td>mstephenson@fernandez.com</td>\n",
       "      <td>835 Frank Tunnel\\nWrightmouth, MI 82180-9605</td>\n",
       "      <td>Violet</td>\n",
       "      <td>34.497268</td>\n",
       "      <td>12.655651</td>\n",
       "      <td>39.577668</td>\n",
       "      <td>4.082621</td>\n",
       "      <td>587.951054</td>\n",
       "    </tr>\n",
       "    <tr>\n",
       "      <th>1</th>\n",
       "      <td>hduke@hotmail.com</td>\n",
       "      <td>4547 Archer Common\\nDiazchester, CA 06566-8576</td>\n",
       "      <td>DarkGreen</td>\n",
       "      <td>31.926272</td>\n",
       "      <td>11.109461</td>\n",
       "      <td>37.268959</td>\n",
       "      <td>2.664034</td>\n",
       "      <td>392.204933</td>\n",
       "    </tr>\n",
       "    <tr>\n",
       "      <th>2</th>\n",
       "      <td>pallen@yahoo.com</td>\n",
       "      <td>24645 Valerie Unions Suite 582\\nCobbborough, D...</td>\n",
       "      <td>Bisque</td>\n",
       "      <td>33.000915</td>\n",
       "      <td>11.330278</td>\n",
       "      <td>37.110597</td>\n",
       "      <td>4.104543</td>\n",
       "      <td>487.547505</td>\n",
       "    </tr>\n",
       "    <tr>\n",
       "      <th>3</th>\n",
       "      <td>riverarebecca@gmail.com</td>\n",
       "      <td>1414 David Throughway\\nPort Jason, OH 22070-1220</td>\n",
       "      <td>SaddleBrown</td>\n",
       "      <td>34.305557</td>\n",
       "      <td>13.717514</td>\n",
       "      <td>36.721283</td>\n",
       "      <td>3.120179</td>\n",
       "      <td>581.852344</td>\n",
       "    </tr>\n",
       "    <tr>\n",
       "      <th>4</th>\n",
       "      <td>mstephens@davidson-herman.com</td>\n",
       "      <td>14023 Rodriguez Passage\\nPort Jacobville, PR 3...</td>\n",
       "      <td>MediumAquaMarine</td>\n",
       "      <td>33.330673</td>\n",
       "      <td>12.795189</td>\n",
       "      <td>37.536653</td>\n",
       "      <td>4.446308</td>\n",
       "      <td>599.406092</td>\n",
       "    </tr>\n",
       "  </tbody>\n",
       "</table>\n",
       "</div>"
      ],
      "text/plain": [
       "                           Email  \\\n",
       "0      mstephenson@fernandez.com   \n",
       "1              hduke@hotmail.com   \n",
       "2               pallen@yahoo.com   \n",
       "3        riverarebecca@gmail.com   \n",
       "4  mstephens@davidson-herman.com   \n",
       "\n",
       "                                             Address            Avatar  \\\n",
       "0       835 Frank Tunnel\\nWrightmouth, MI 82180-9605            Violet   \n",
       "1     4547 Archer Common\\nDiazchester, CA 06566-8576         DarkGreen   \n",
       "2  24645 Valerie Unions Suite 582\\nCobbborough, D...            Bisque   \n",
       "3   1414 David Throughway\\nPort Jason, OH 22070-1220       SaddleBrown   \n",
       "4  14023 Rodriguez Passage\\nPort Jacobville, PR 3...  MediumAquaMarine   \n",
       "\n",
       "   Avg. Session Length  Time on App  Time on Website  Length of Membership  \\\n",
       "0            34.497268    12.655651        39.577668              4.082621   \n",
       "1            31.926272    11.109461        37.268959              2.664034   \n",
       "2            33.000915    11.330278        37.110597              4.104543   \n",
       "3            34.305557    13.717514        36.721283              3.120179   \n",
       "4            33.330673    12.795189        37.536653              4.446308   \n",
       "\n",
       "   Yearly Amount Spent  \n",
       "0           587.951054  \n",
       "1           392.204933  \n",
       "2           487.547505  \n",
       "3           581.852344  \n",
       "4           599.406092  "
      ]
     },
     "execution_count": 20,
     "metadata": {},
     "output_type": "execute_result"
    }
   ],
   "source": [
    "#reading in my csv data and looking at the initial first 5 rows\n",
    "data_frame = pd.read_csv(\"dataset.csv\")\n",
    "data_frame.head()"
   ]
  },
  {
   "cell_type": "code",
   "execution_count": 21,
   "id": "36426219-4366-4c6d-a2ec-89fefb1e57e6",
   "metadata": {},
   "outputs": [
    {
     "name": "stdout",
     "output_type": "stream",
     "text": [
      "500\n"
     ]
    }
   ],
   "source": [
    "#getting the length of my data frame\n",
    "print(len(data_frame))"
   ]
  },
  {
   "cell_type": "code",
   "execution_count": 22,
   "id": "200f6d13-dab0-4b5c-8e3a-e6ff55a534d0",
   "metadata": {},
   "outputs": [
    {
     "data": {
      "text/html": [
       "<div>\n",
       "<style scoped>\n",
       "    .dataframe tbody tr th:only-of-type {\n",
       "        vertical-align: middle;\n",
       "    }\n",
       "\n",
       "    .dataframe tbody tr th {\n",
       "        vertical-align: top;\n",
       "    }\n",
       "\n",
       "    .dataframe thead th {\n",
       "        text-align: right;\n",
       "    }\n",
       "</style>\n",
       "<table border=\"1\" class=\"dataframe\">\n",
       "  <thead>\n",
       "    <tr style=\"text-align: right;\">\n",
       "      <th></th>\n",
       "      <th>Avg. Session Length</th>\n",
       "      <th>Time on App</th>\n",
       "      <th>Time on Website</th>\n",
       "      <th>Length of Membership</th>\n",
       "      <th>Yearly Amount Spent</th>\n",
       "    </tr>\n",
       "  </thead>\n",
       "  <tbody>\n",
       "    <tr>\n",
       "      <th>0</th>\n",
       "      <td>34.497268</td>\n",
       "      <td>12.655651</td>\n",
       "      <td>39.577668</td>\n",
       "      <td>4.082621</td>\n",
       "      <td>587.951054</td>\n",
       "    </tr>\n",
       "    <tr>\n",
       "      <th>1</th>\n",
       "      <td>31.926272</td>\n",
       "      <td>11.109461</td>\n",
       "      <td>37.268959</td>\n",
       "      <td>2.664034</td>\n",
       "      <td>392.204933</td>\n",
       "    </tr>\n",
       "    <tr>\n",
       "      <th>2</th>\n",
       "      <td>33.000915</td>\n",
       "      <td>11.330278</td>\n",
       "      <td>37.110597</td>\n",
       "      <td>4.104543</td>\n",
       "      <td>487.547505</td>\n",
       "    </tr>\n",
       "    <tr>\n",
       "      <th>3</th>\n",
       "      <td>34.305557</td>\n",
       "      <td>13.717514</td>\n",
       "      <td>36.721283</td>\n",
       "      <td>3.120179</td>\n",
       "      <td>581.852344</td>\n",
       "    </tr>\n",
       "    <tr>\n",
       "      <th>4</th>\n",
       "      <td>33.330673</td>\n",
       "      <td>12.795189</td>\n",
       "      <td>37.536653</td>\n",
       "      <td>4.446308</td>\n",
       "      <td>599.406092</td>\n",
       "    </tr>\n",
       "  </tbody>\n",
       "</table>\n",
       "</div>"
      ],
      "text/plain": [
       "   Avg. Session Length  Time on App  Time on Website  Length of Membership  \\\n",
       "0            34.497268    12.655651        39.577668              4.082621   \n",
       "1            31.926272    11.109461        37.268959              2.664034   \n",
       "2            33.000915    11.330278        37.110597              4.104543   \n",
       "3            34.305557    13.717514        36.721283              3.120179   \n",
       "4            33.330673    12.795189        37.536653              4.446308   \n",
       "\n",
       "   Yearly Amount Spent  \n",
       "0           587.951054  \n",
       "1           392.204933  \n",
       "2           487.547505  \n",
       "3           581.852344  \n",
       "4           599.406092  "
      ]
     },
     "execution_count": 22,
     "metadata": {},
     "output_type": "execute_result"
    }
   ],
   "source": [
    "#drop the email,address and avatar columns, not helpuf in the linear regression model\n",
    "data_frame.drop(columns=[\"Email\",\"Address\",\"Avatar\"], inplace= True) \n",
    "data_frame.head()"
   ]
  },
  {
   "cell_type": "code",
   "execution_count": 23,
   "id": "071e9d24-8c3b-4882-b557-a030f444392b",
   "metadata": {},
   "outputs": [
    {
     "name": "stdout",
     "output_type": "stream",
     "text": [
      "500\n"
     ]
    }
   ],
   "source": [
    "#change all the column values to numeric, we are working with a linear regression model,numeric data is important\n",
    "data_frame.apply(pd.to_numeric, errors=\"coerce\")\n",
    "#drop rows with missing values\n",
    "data_frame.dropna(inplace=True) # setting inplace to be true means i am modifying the original data frame, changing the original dataset\n",
    "#drop duplicates in the data frame\n",
    "data_frame.drop_duplicates(inplace=True)\n",
    "print(len(data_frame))"
   ]
  },
  {
   "cell_type": "code",
   "execution_count": 24,
   "id": "894fcd3f-d261-4635-a9a7-fd2152f63496",
   "metadata": {},
   "outputs": [
    {
     "name": "stdout",
     "output_type": "stream",
     "text": [
      "[587.95105397 392.20493344 487.54750487 581.85234404 599.40609205\n",
      " 637.10244792 521.57217476 549.90414611 570.20040896 427.1993849\n",
      " 492.60601272 522.33740461 408.64035107 573.41586733 470.4527333\n",
      " 461.7807422  457.84769594 407.70454755 452.31567548 605.0610388\n",
      " 534.70574381 419.93877484 436.51560573 519.34098913 700.91709162\n",
      " 423.17999168 619.89563986 486.83893477 529.53766534 554.72208383\n",
      " 497.5866713  447.68790654 588.71260551 491.07322368 507.44183234\n",
      " 521.88357317 347.77692663 490.73863214 478.17033405 537.84619527\n",
      " 532.75178758 501.87443028 591.19717818 547.24434342 448.22982919\n",
      " 549.86059046 593.91500297 563.67287336 479.73194909 416.35835358\n",
      " 725.58481406 442.66725174 384.62657157 451.45744687 522.40414126\n",
      " 483.67330802 520.89879445 453.16950235 496.65070807 547.36514059\n",
      " 616.85152297 507.212569   613.59932337 483.15972078 540.26340041\n",
      " 765.51846194 553.60153468 469.3108615  408.62018783 451.57568516\n",
      " 444.96655165 595.8228367  418.1500811  534.7771881  578.24160506\n",
      " 478.71935687 444.2859075  544.77986372 488.78606109 475.75906779\n",
      " 489.812488   462.89763615 596.43017262 338.31986264 533.51493526\n",
      " 536.77189936 487.37930602 473.72896651 547.12593175 505.11334354\n",
      " 449.07031944 611.0000251  515.82881485 439.07476674 514.08895775\n",
      " 543.34016626 521.14295181 614.71533383 507.39006179 495.29944255\n",
      " 518.06455798 390.10327297 420.73767324 492.10505239 410.06961106\n",
      " 497.51368333 494.55186109 378.33090691 570.45172591 549.00822693\n",
      " 459.28512346 492.94505307 424.76263551 422.42677588 642.10157873\n",
      " 413.37178311 479.23109291 593.07724134 506.54730705 571.30749488\n",
      " 576.31117737 576.8025474  514.23952072 495.17595045 514.33655827\n",
      " 541.22658399 516.83155668 468.44573723 548.2803202  431.61773376\n",
      " 552.94034545 573.30622226 452.627255   542.7115581  407.80403064\n",
      " 482.35357032 529.23009012 433.0487691  476.19141335 439.99787994\n",
      " 448.93329321 472.99224667 463.92351299 350.05820016 460.06127739\n",
      " 505.77114032 463.4849954  479.73193765 424.18549429 465.88931271\n",
      " 426.77521599 684.16343102 555.89259539 657.01992394 595.80381888\n",
      " 503.97837905 586.15587018 744.2218671  512.82535813 528.22380937\n",
      " 468.91350132 357.59143942 536.42310453 490.20659998 550.04758058\n",
      " 513.45057119 497.81193001 578.98625858 506.53639314 501.74923331\n",
      " 421.96679419 439.89128048 666.12559173 298.76200786 465.17662331\n",
      " 373.8857237  532.71748568 554.90078302 537.77316254 501.10024523\n",
      " 517.16513559 557.52927361 493.71919298 452.12262509 577.27345498\n",
      " 485.92313052 425.74509203 537.2150527  524.63796461 478.88539132\n",
      " 612.3852299  476.76672415 505.11963753 545.94549214 434.02169975\n",
      " 424.67528101 352.55010816 662.96108781 560.56016062 467.50190043\n",
      " 504.87043239 590.56271965 443.96562681 392.49739919 568.71757593\n",
      " 712.39632681 413.29599918 562.08204539 412.0129313  468.6684656\n",
      " 496.55408164 548.51852928 536.13089686 558.42725718 357.86371864\n",
      " 529.0566632  387.35707274 528.93361857 420.91615953 496.93344626\n",
      " 519.3729768  591.43773557 502.4097853  604.33484007 555.06839405\n",
      " 256.67058229 547.11098236 461.92087689 458.37691065 436.28349815\n",
      " 532.93521884 512.55253436 630.42276323 463.74598112 493.18021625\n",
      " 501.20917268 501.92826487 376.33690076 421.32663126 538.77493348\n",
      " 398.16346853 571.47103412 451.62861054 490.6004425  591.78108943\n",
      " 409.07047205 563.44603567 647.61945573 448.34042501 518.78648309\n",
      " 523.63393514 393.85737099 426.15454771 503.38788729 482.60246733\n",
      " 524.79762757 574.65484337 574.74721966 660.42518429 375.39845541\n",
      " 640.18774001 514.00981785 376.49684072 484.51980911 614.72963763\n",
      " 567.47501053 554.00309343 399.9838716  479.17285149 585.9318443\n",
      " 540.99573911 628.04780393 582.49192373 640.7861664  446.41867337\n",
      " 570.63009809 423.3083341  616.66028602 530.36246889 442.36311738\n",
      " 511.97985999 560.44379217 475.26342373 374.26967454 463.59141803\n",
      " 471.60288439 626.01867266 432.47206125 356.61556789 467.4278485\n",
      " 503.21739312 378.47356645 584.21831349 451.72786332 557.634109\n",
      " 432.72071784 506.42385997 510.15981728 587.57479948 282.47124572\n",
      " 473.94985742 489.9080531  541.97220376 266.08634095 494.68715581\n",
      " 689.78760417 387.53471631 441.89663152 604.84131882 302.18954781\n",
      " 479.61481167 506.13234244 319.9288698  528.30922503 610.12803313\n",
      " 584.10588505 466.42119882 404.82452887 564.79096901 596.51669797\n",
      " 368.65478495 542.41247673 478.2621264  473.36049557 559.19904795\n",
      " 447.18764431 505.23006828 557.25268675 422.36873661 445.06218551\n",
      " 442.06441376 533.04006018 424.2028271  498.63559849 330.59444603\n",
      " 443.44186006 478.60091594 440.00274755 357.78311075 476.13924687\n",
      " 501.1224915  592.6884532  486.0834255  576.02524413 442.72289157\n",
      " 461.79095906 488.38752578 593.15640148 392.81034498 443.19722103\n",
      " 535.48077519 533.39655379 532.12744911 558.94811239 508.77190674\n",
      " 403.7669021  640.5840619  461.62827839 382.41610787 561.87465767\n",
      " 444.57614413 401.03313522 384.32605714 527.78299576 482.14499688\n",
      " 594.27448342 502.0925279  407.65717876 708.93518487 531.96155055\n",
      " 521.24078024 447.3690272  385.15233799 430.58888256 418.6027421\n",
      " 478.95140476 483.79652206 538.94197453 486.16379907 385.09500707\n",
      " 527.78378976 547.19074935 410.60294395 583.97780197 474.53232944\n",
      " 414.93506065 550.81336773 458.78113168 407.54216801 581.30893288\n",
      " 546.55666686 503.17508519 549.13157329 482.83098586 557.60826205\n",
      " 484.87696494 669.9871405  547.70998858 537.8252823  408.21690177\n",
      " 663.07481761 506.37586675 528.4193297  632.12358814 488.27029797\n",
      " 508.73574095 411.18696357 409.09452619 467.80092437 512.16586639\n",
      " 608.27181662 589.02648976 444.05382657 493.18126139 532.72480546\n",
      " 275.91842065 511.03878605 438.41774201 475.72506791 483.54319387\n",
      " 663.80369328 544.40927216 630.15672817 461.11224843 491.9115051\n",
      " 574.41568961 530.76671865 581.79879768 556.29814117 502.13278923\n",
      " 556.18636887 475.0716299  486.94705384 434.14420203 304.13559158\n",
      " 571.21600483 583.07963566 445.74984124 392.99225591 565.9943634\n",
      " 499.14015245 510.5394217  308.52774656 561.51653198 423.47053317\n",
      " 513.15311185 529.19451886 314.4385183  478.58428601 444.58216498\n",
      " 475.01540709 436.72055586 521.19531053 478.18305971 432.48116856\n",
      " 438.30370785 388.94054879 534.77148495 537.91575292 407.87637822\n",
      " 618.84597042 502.77107457 397.4205841  392.28524425 689.23569976\n",
      " 543.13262629 577.73602485 436.58074035 553.99467359 427.3565308\n",
      " 424.72877393 541.04983096 469.38314617 444.54554965 492.5568337\n",
      " 535.32161009 408.95833594 487.55545806 487.64623174 402.16712222\n",
      " 551.0230017  497.38955776 494.63860976 479.24741678 462.65651893\n",
      " 515.50247966 576.47760717 357.85798361 597.73987888 327.37795259\n",
      " 510.40138845 510.50147847 403.81951983 627.60331871 510.66179222\n",
      " 573.84743772 529.04900413 551.62014548 456.46951007 497.77864222]\n"
     ]
    }
   ],
   "source": [
    "#getting my features and my target column\n",
    "features = data_frame.iloc[:, :4].values # getting all the rows and column 0 to 3\n",
    "target_column = data_frame.iloc[:, 4].values # getting all the rows and column 4\n",
    "print(target_column)"
   ]
  },
  {
   "cell_type": "code",
   "execution_count": 27,
   "id": "e9dad00d-16f7-41c5-9462-0884a76d21bb",
   "metadata": {},
   "outputs": [
    {
     "name": "stdout",
     "output_type": "stream",
     "text": [
      "400\n",
      "100\n"
     ]
    }
   ],
   "source": [
    "# splitting the dataset into training and testing data using scikit learn\n",
    "# i will be using the 80-20 split ratio \n",
    "# random_state = 1 is here to ensure that the split is always the same,produces the same results each time\n",
    "feature_training,feature_testing,target_training,target_testing = train_test_split(features,target_column,test_size=0.2, random_state=1)\n",
    "\n",
    "#outputting the length of the training and the testing to see if the 80-20 ratio is correctly applied\n",
    "print(target_training.shape[0])\n",
    "print(target_testing.shape[0])"
   ]
  },
  {
   "cell_type": "code",
   "execution_count": 34,
   "id": "0f84fffc-a783-4092-b6c6-f1b9bd01c237",
   "metadata": {},
   "outputs": [],
   "source": [
    "def closed_form_solution(feature_Matrix,target_Vector):\n",
    "    theta = np.linalg.inv(feature_Matrix.T.dot(feature_Matrix)).dot(feature_Matrix.T).dot(target_Vector)\n",
    "    return theta"
   ]
  },
  {
   "cell_type": "code",
   "execution_count": 29,
   "id": "08a639da-d635-4e9c-8d53-07dd97b87e9e",
   "metadata": {},
   "outputs": [
    {
     "name": "stdout",
     "output_type": "stream",
     "text": [
      "[[31.26064687 13.26676035 36.9711951   2.26725111]\n",
      " [32.14906052 10.04731474 37.18144731  3.53508843]\n",
      " [33.81173341 11.18680872 36.29889308  4.3019965 ]\n",
      " ...\n",
      " [35.74266981 10.88982828 35.56543624  6.11519895]\n",
      " [33.17720467 11.62277717 35.96889569  3.63409373]\n",
      " [32.86532717 11.98441752 37.0443614   3.45238858]]\n"
     ]
    }
   ],
   "source": [
    "print(feature_training)"
   ]
  },
  {
   "cell_type": "code",
   "execution_count": 31,
   "id": "2c5e7884-8fb0-4931-ad20-20c016a1e7c1",
   "metadata": {},
   "outputs": [
    {
     "name": "stdout",
     "output_type": "stream",
     "text": [
      "[[ 1.         31.26064687 13.26676035 36.9711951   2.26725111]\n",
      " [ 1.         32.14906052 10.04731474 37.18144731  3.53508843]\n",
      " [ 1.         33.81173341 11.18680872 36.29889308  4.3019965 ]\n",
      " ...\n",
      " [ 1.         35.74266981 10.88982828 35.56543624  6.11519895]\n",
      " [ 1.         33.17720467 11.62277717 35.96889569  3.63409373]\n",
      " [ 1.         32.86532717 11.98441752 37.0443614   3.45238858]]\n"
     ]
    }
   ],
   "source": [
    "# add a bias term { 1 } to our feature matrix inorder to be able to use the closed form solution so i am adding a new column of 1s\n",
    "feature_training_bias = np.c_[np.ones((feature_training.shape[0],1)),feature_training]\n",
    "print(feature_training_bias)"
   ]
  },
  {
   "cell_type": "code",
   "execution_count": 36,
   "id": "8b944fc9-927a-4a7b-942a-fca99f890e6d",
   "metadata": {},
   "outputs": [
    {
     "name": "stdout",
     "output_type": "stream",
     "text": [
      "[-1.04773921e+03  2.57885426e+01  3.88515047e+01  2.56384674e-01\n",
      "  6.14920499e+01]\n"
     ]
    }
   ],
   "source": [
    "# get our theta values\n",
    "theta = closed_form_solution(feature_training_bias,target_training)\n",
    "print(theta)"
   ]
  },
  {
   "cell_type": "code",
   "execution_count": 37,
   "id": "d0241297-4d40-4889-aebb-4a3af75dcf9a",
   "metadata": {},
   "outputs": [
    {
     "name": "stdout",
     "output_type": "stream",
     "text": [
      "[498.7228681  519.59228344 563.13904069 478.91915652 423.41266838\n",
      " 508.9555034  478.76101633 460.0534163  519.38968483 438.96457911\n",
      " 487.62519476 525.92536473 577.18547575 553.7066461  685.60452684\n",
      " 473.39014425 314.1945817  458.030198   452.4612251  461.03168755\n",
      " 456.28708189 332.06929726 504.03498428 401.56582625 766.63520004\n",
      " 426.08349764 513.37904373 476.9128933  306.33083848 590.22648801\n",
      " 505.28052114 389.98117113 463.78603542 315.72068062 465.83129961\n",
      " 549.68040427 620.1610288  591.95902606 495.80365357 402.73437857\n",
      " 507.05480493 547.73248629 422.68457762 558.79136007 442.02693944\n",
      " 432.71267857 430.23835177 507.05828181 425.57805969 401.99227084\n",
      " 553.16953956 353.36551475 639.65600563 478.48345842 452.01425715\n",
      " 621.7991521  325.77117572 491.50118041 411.66626102 549.18504412\n",
      " 587.96534365 548.30580216 567.82460456 589.07491155 424.81143949\n",
      " 581.71582004 601.91487334 474.32407438 444.68380443 539.9210953\n",
      " 479.48959778 573.69657395 478.43264187 572.0490947  390.0305955\n",
      " 398.19734997 576.19878386 576.94645511 526.21767492 482.84937918\n",
      " 667.64748455 577.3665797  540.45872113 280.31496315 508.53304204\n",
      " 599.99280391 427.98470538 466.75990691 513.64047321 413.43806088\n",
      " 494.13369108 550.36247986 446.14441837 517.14728085 628.5192235\n",
      " 513.88800651 512.49503907 523.58322901 589.03763332 462.02120586]\n"
     ]
    }
   ],
   "source": [
    "# now i am testing the model, and i have to a column of 1s to my testing data\n",
    "feature_testing_bias = np.c_[np.ones((feature_testing.shape[0],1)),feature_testing]\n",
    "\n",
    "# and finally to test, i just get the dot product of the the feature_testing_bias with the theta vector i got\n",
    "tested = feature_testing_bias.dot(theta)\n",
    "print(tested)"
   ]
  },
  {
   "cell_type": "code",
   "execution_count": 38,
   "id": "d978fe0e-f953-4e71-ad06-4eef69950921",
   "metadata": {},
   "outputs": [
    {
     "name": "stdout",
     "output_type": "stream",
     "text": [
      "78.29571004007693\n"
     ]
    }
   ],
   "source": [
    "mse_test = np.mean((tested - target_testing) ** 2)\n",
    "print(mse_test)"
   ]
  },
  {
   "cell_type": "code",
   "execution_count": null,
   "id": "114502b4-494f-4e9a-bce5-8c8671961656",
   "metadata": {},
   "outputs": [],
   "source": []
  }
 ],
 "metadata": {
  "kernelspec": {
   "display_name": "Python 3 (ipykernel)",
   "language": "python",
   "name": "python3"
  },
  "language_info": {
   "codemirror_mode": {
    "name": "ipython",
    "version": 3
   },
   "file_extension": ".py",
   "mimetype": "text/x-python",
   "name": "python",
   "nbconvert_exporter": "python",
   "pygments_lexer": "ipython3",
   "version": "3.12.7"
  }
 },
 "nbformat": 4,
 "nbformat_minor": 5
}
